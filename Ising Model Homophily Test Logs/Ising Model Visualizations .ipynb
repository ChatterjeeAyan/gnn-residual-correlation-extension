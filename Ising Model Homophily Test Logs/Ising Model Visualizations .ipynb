{
 "cells": [
  {
   "cell_type": "code",
   "execution_count": 2,
   "metadata": {},
   "outputs": [],
   "source": [
    "%matplotlib inline\n",
    "import matplotlib.pyplot as plt\n",
    "plt.style.use('seaborn-whitegrid')\n",
    "import numpy as np\n",
    "import pandas as pd"
   ]
  },
  {
   "cell_type": "code",
   "execution_count": 3,
   "metadata": {},
   "outputs": [],
   "source": [
    "ising_data = pd.read_excel('Tables.xlsx')"
   ]
  },
  {
   "cell_type": "code",
   "execution_count": 4,
   "metadata": {
    "scrolled": true
   },
   "outputs": [
    {
     "data": {
      "text/html": [
       "<div>\n",
       "<style scoped>\n",
       "    .dataframe tbody tr th:only-of-type {\n",
       "        vertical-align: middle;\n",
       "    }\n",
       "\n",
       "    .dataframe tbody tr th {\n",
       "        vertical-align: top;\n",
       "    }\n",
       "\n",
       "    .dataframe thead th {\n",
       "        text-align: right;\n",
       "    }\n",
       "</style>\n",
       "<table border=\"1\" class=\"dataframe\">\n",
       "  <thead>\n",
       "    <tr style=\"text-align: right;\">\n",
       "      <th></th>\n",
       "      <th>n</th>\n",
       "      <th>h</th>\n",
       "      <th>J</th>\n",
       "      <th>cgnn_rr</th>\n",
       "      <th>cgnn_rr_std</th>\n",
       "      <th>alpha</th>\n",
       "      <th>alpha_std</th>\n",
       "      <th>gnn_rr</th>\n",
       "      <th>gnn_rr_std</th>\n",
       "    </tr>\n",
       "  </thead>\n",
       "  <tbody>\n",
       "    <tr>\n",
       "      <th>0</th>\n",
       "      <td>35</td>\n",
       "      <td>0.1</td>\n",
       "      <td>0.1</td>\n",
       "      <td>0.532</td>\n",
       "      <td>0.027</td>\n",
       "      <td>0.341</td>\n",
       "      <td>0.106</td>\n",
       "      <td>0.514</td>\n",
       "      <td>0.021</td>\n",
       "    </tr>\n",
       "    <tr>\n",
       "      <th>1</th>\n",
       "      <td>35</td>\n",
       "      <td>0.1</td>\n",
       "      <td>0.2</td>\n",
       "      <td>0.603</td>\n",
       "      <td>0.041</td>\n",
       "      <td>0.633</td>\n",
       "      <td>0.075</td>\n",
       "      <td>0.561</td>\n",
       "      <td>0.044</td>\n",
       "    </tr>\n",
       "    <tr>\n",
       "      <th>2</th>\n",
       "      <td>35</td>\n",
       "      <td>0.1</td>\n",
       "      <td>0.3</td>\n",
       "      <td>0.722</td>\n",
       "      <td>0.028</td>\n",
       "      <td>0.792</td>\n",
       "      <td>0.048</td>\n",
       "      <td>0.604</td>\n",
       "      <td>0.041</td>\n",
       "    </tr>\n",
       "    <tr>\n",
       "      <th>3</th>\n",
       "      <td>35</td>\n",
       "      <td>0.1</td>\n",
       "      <td>0.4</td>\n",
       "      <td>0.838</td>\n",
       "      <td>0.024</td>\n",
       "      <td>0.914</td>\n",
       "      <td>0.029</td>\n",
       "      <td>0.757</td>\n",
       "      <td>0.022</td>\n",
       "    </tr>\n",
       "    <tr>\n",
       "      <th>4</th>\n",
       "      <td>35</td>\n",
       "      <td>0.1</td>\n",
       "      <td>0.5</td>\n",
       "      <td>0.933</td>\n",
       "      <td>0.017</td>\n",
       "      <td>0.948</td>\n",
       "      <td>0.013</td>\n",
       "      <td>0.907</td>\n",
       "      <td>0.029</td>\n",
       "    </tr>\n",
       "    <tr>\n",
       "      <th>5</th>\n",
       "      <td>35</td>\n",
       "      <td>0.1</td>\n",
       "      <td>0.6</td>\n",
       "      <td>0.969</td>\n",
       "      <td>0.011</td>\n",
       "      <td>0.960</td>\n",
       "      <td>0.011</td>\n",
       "      <td>0.957</td>\n",
       "      <td>0.023</td>\n",
       "    </tr>\n",
       "    <tr>\n",
       "      <th>6</th>\n",
       "      <td>35</td>\n",
       "      <td>0.1</td>\n",
       "      <td>0.7</td>\n",
       "      <td>0.987</td>\n",
       "      <td>0.007</td>\n",
       "      <td>0.957</td>\n",
       "      <td>0.015</td>\n",
       "      <td>0.980</td>\n",
       "      <td>0.007</td>\n",
       "    </tr>\n",
       "    <tr>\n",
       "      <th>7</th>\n",
       "      <td>35</td>\n",
       "      <td>0.1</td>\n",
       "      <td>0.8</td>\n",
       "      <td>0.996</td>\n",
       "      <td>0.003</td>\n",
       "      <td>0.595</td>\n",
       "      <td>0.403</td>\n",
       "      <td>0.996</td>\n",
       "      <td>0.004</td>\n",
       "    </tr>\n",
       "    <tr>\n",
       "      <th>8</th>\n",
       "      <td>35</td>\n",
       "      <td>0.1</td>\n",
       "      <td>0.9</td>\n",
       "      <td>0.996</td>\n",
       "      <td>0.006</td>\n",
       "      <td>0.600</td>\n",
       "      <td>0.420</td>\n",
       "      <td>0.995</td>\n",
       "      <td>0.008</td>\n",
       "    </tr>\n",
       "    <tr>\n",
       "      <th>9</th>\n",
       "      <td>35</td>\n",
       "      <td>0.1</td>\n",
       "      <td>-0.1</td>\n",
       "      <td>0.540</td>\n",
       "      <td>0.026</td>\n",
       "      <td>-0.305</td>\n",
       "      <td>0.104</td>\n",
       "      <td>0.495</td>\n",
       "      <td>0.043</td>\n",
       "    </tr>\n",
       "    <tr>\n",
       "      <th>10</th>\n",
       "      <td>35</td>\n",
       "      <td>0.1</td>\n",
       "      <td>-0.2</td>\n",
       "      <td>0.633</td>\n",
       "      <td>0.030</td>\n",
       "      <td>-0.641</td>\n",
       "      <td>0.068</td>\n",
       "      <td>0.489</td>\n",
       "      <td>0.032</td>\n",
       "    </tr>\n",
       "    <tr>\n",
       "      <th>11</th>\n",
       "      <td>35</td>\n",
       "      <td>0.1</td>\n",
       "      <td>-0.3</td>\n",
       "      <td>0.703</td>\n",
       "      <td>0.027</td>\n",
       "      <td>-0.831</td>\n",
       "      <td>0.047</td>\n",
       "      <td>0.478</td>\n",
       "      <td>0.019</td>\n",
       "    </tr>\n",
       "    <tr>\n",
       "      <th>12</th>\n",
       "      <td>35</td>\n",
       "      <td>0.1</td>\n",
       "      <td>-0.4</td>\n",
       "      <td>0.807</td>\n",
       "      <td>0.024</td>\n",
       "      <td>-0.968</td>\n",
       "      <td>0.008</td>\n",
       "      <td>0.470</td>\n",
       "      <td>0.027</td>\n",
       "    </tr>\n",
       "    <tr>\n",
       "      <th>13</th>\n",
       "      <td>35</td>\n",
       "      <td>0.1</td>\n",
       "      <td>-0.5</td>\n",
       "      <td>0.934</td>\n",
       "      <td>0.017</td>\n",
       "      <td>-0.996</td>\n",
       "      <td>0.001</td>\n",
       "      <td>0.465</td>\n",
       "      <td>0.035</td>\n",
       "    </tr>\n",
       "    <tr>\n",
       "      <th>14</th>\n",
       "      <td>35</td>\n",
       "      <td>0.1</td>\n",
       "      <td>-0.6</td>\n",
       "      <td>0.976</td>\n",
       "      <td>0.013</td>\n",
       "      <td>-0.998</td>\n",
       "      <td>0.001</td>\n",
       "      <td>0.446</td>\n",
       "      <td>0.033</td>\n",
       "    </tr>\n",
       "    <tr>\n",
       "      <th>15</th>\n",
       "      <td>35</td>\n",
       "      <td>0.1</td>\n",
       "      <td>-0.7</td>\n",
       "      <td>0.983</td>\n",
       "      <td>0.015</td>\n",
       "      <td>-0.999</td>\n",
       "      <td>0.000</td>\n",
       "      <td>0.436</td>\n",
       "      <td>0.023</td>\n",
       "    </tr>\n",
       "    <tr>\n",
       "      <th>16</th>\n",
       "      <td>35</td>\n",
       "      <td>0.1</td>\n",
       "      <td>-0.8</td>\n",
       "      <td>0.989</td>\n",
       "      <td>0.010</td>\n",
       "      <td>-0.999</td>\n",
       "      <td>0.000</td>\n",
       "      <td>0.462</td>\n",
       "      <td>0.023</td>\n",
       "    </tr>\n",
       "    <tr>\n",
       "      <th>17</th>\n",
       "      <td>35</td>\n",
       "      <td>0.1</td>\n",
       "      <td>-0.9</td>\n",
       "      <td>0.992</td>\n",
       "      <td>0.008</td>\n",
       "      <td>-0.999</td>\n",
       "      <td>0.000</td>\n",
       "      <td>0.441</td>\n",
       "      <td>0.038</td>\n",
       "    </tr>\n",
       "  </tbody>\n",
       "</table>\n",
       "</div>"
      ],
      "text/plain": [
       "     n    h    J  cgnn_rr  cgnn_rr_std  alpha  alpha_std  gnn_rr  gnn_rr_std\n",
       "0   35  0.1  0.1    0.532        0.027  0.341      0.106   0.514       0.021\n",
       "1   35  0.1  0.2    0.603        0.041  0.633      0.075   0.561       0.044\n",
       "2   35  0.1  0.3    0.722        0.028  0.792      0.048   0.604       0.041\n",
       "3   35  0.1  0.4    0.838        0.024  0.914      0.029   0.757       0.022\n",
       "4   35  0.1  0.5    0.933        0.017  0.948      0.013   0.907       0.029\n",
       "5   35  0.1  0.6    0.969        0.011  0.960      0.011   0.957       0.023\n",
       "6   35  0.1  0.7    0.987        0.007  0.957      0.015   0.980       0.007\n",
       "7   35  0.1  0.8    0.996        0.003  0.595      0.403   0.996       0.004\n",
       "8   35  0.1  0.9    0.996        0.006  0.600      0.420   0.995       0.008\n",
       "9   35  0.1 -0.1    0.540        0.026 -0.305      0.104   0.495       0.043\n",
       "10  35  0.1 -0.2    0.633        0.030 -0.641      0.068   0.489       0.032\n",
       "11  35  0.1 -0.3    0.703        0.027 -0.831      0.047   0.478       0.019\n",
       "12  35  0.1 -0.4    0.807        0.024 -0.968      0.008   0.470       0.027\n",
       "13  35  0.1 -0.5    0.934        0.017 -0.996      0.001   0.465       0.035\n",
       "14  35  0.1 -0.6    0.976        0.013 -0.998      0.001   0.446       0.033\n",
       "15  35  0.1 -0.7    0.983        0.015 -0.999      0.000   0.436       0.023\n",
       "16  35  0.1 -0.8    0.989        0.010 -0.999      0.000   0.462       0.023\n",
       "17  35  0.1 -0.9    0.992        0.008 -0.999      0.000   0.441       0.038"
      ]
     },
     "execution_count": 4,
     "metadata": {},
     "output_type": "execute_result"
    }
   ],
   "source": [
    "ising_data"
   ]
  },
  {
   "cell_type": "code",
   "execution_count": 11,
   "metadata": {},
   "outputs": [],
   "source": [
    "pos_alpha = ising_data['alpha'].tolist()[0:9]\n",
    "pos_J = ising_data['J'].tolist()[0:9]\n",
    "pos_gnn_mean = ising_data['gnn_rr'].tolist()[0:9]\n",
    "pos_gnn_std = ising_data['gnn_rr_std'].tolist()[0:9]\n",
    "pos_cgnn_mean = ising_data['cgnn_rr'].tolist()[0:9]\n",
    "pos_cgnn_std = ising_data['cgnn_rr_std'].tolist()[0:9]"
   ]
  },
  {
   "cell_type": "code",
   "execution_count": 20,
   "metadata": {},
   "outputs": [
    {
     "data": {
      "text/plain": [
       "Text(0, 0.5, 'R_squared')"
      ]
     },
     "execution_count": 20,
     "metadata": {},
     "output_type": "execute_result"
    },
    {
     "data": {
      "image/png": "[encoded data removed]",
      "text/plain": [
       "<Figure size 432x288 with 1 Axes>"
      ]
     },
     "metadata": {},
     "output_type": "display_data"
    }
   ],
   "source": [
    "plt.errorbar(pos_J, pos_gnn_mean, yerr=pos_gnn_std,color='r',label='GNN')\n",
    "plt.errorbar(pos_J, pos_cgnn_mean, yerr=pos_cgnn_std,color='g',label='C-GNN')\n",
    "plt.legend()\n",
    "plt.xlabel('J')\n",
    "plt.ylabel('R_squared')"
   ]
  },
  {
   "cell_type": "code",
   "execution_count": 23,
   "metadata": {},
   "outputs": [
    {
     "data": {
      "text/plain": [
       "Text(0, 0.5, 'R_squared')"
      ]
     },
     "execution_count": 23,
     "metadata": {},
     "output_type": "execute_result"
    },
    {
     "data": {
      "image/png": "[encoded data removed]",
      "text/plain": [
       "<Figure size 432x288 with 1 Axes>"
      ]
     },
     "metadata": {},
     "output_type": "display_data"
    }
   ],
   "source": [
    "plt.errorbar(pos_alpha, pos_gnn_mean, yerr=pos_gnn_std,color='r',label='GNN',fmt='o')\n",
    "plt.errorbar(pos_alpha, pos_cgnn_mean, yerr=pos_cgnn_std,color='g',label='C-GNN',fmt='o')\n",
    "plt.legend()\n",
    "plt.xlabel('alpha_i')\n",
    "plt.ylabel('R_squared')"
   ]
  },
  {
   "cell_type": "code",
   "execution_count": 18,
   "metadata": {},
   "outputs": [],
   "source": [
    "neg_alpha = ising_data['alpha'].tolist()[9:18]\n",
    "neg_J = ising_data['J'].tolist()[9:18]\n",
    "neg_gnn_mean = ising_data['gnn_rr'].tolist()[9:18]\n",
    "neg_gnn_std = ising_data['gnn_rr_std'].tolist()[9:18]\n",
    "neg_cgnn_mean = ising_data['cgnn_rr'].tolist()[9:18]\n",
    "neg_cgnn_std = ising_data['cgnn_rr_std'].tolist()[9:18]"
   ]
  },
  {
   "cell_type": "code",
   "execution_count": 19,
   "metadata": {},
   "outputs": [
    {
     "data": {
      "text/plain": [
       "Text(0, 0.5, 'R_squared')"
      ]
     },
     "execution_count": 19,
     "metadata": {},
     "output_type": "execute_result"
    },
    {
     "data": {
      "image/png": "[encoded data removed]",
      "text/plain": [
       "<Figure size 432x288 with 1 Axes>"
      ]
     },
     "metadata": {},
     "output_type": "display_data"
    }
   ],
   "source": [
    "plt.errorbar(neg_J, neg_gnn_mean, yerr=neg_gnn_std,color='r',label='GNN')\n",
    "plt.errorbar(neg_J, neg_cgnn_mean, yerr=neg_cgnn_std,color='g',label='C-GNN')\n",
    "plt.legend()\n",
    "plt.xlabel('J')\n",
    "plt.ylabel('R_squared')"
   ]
  },
  {
   "cell_type": "code",
   "execution_count": 25,
   "metadata": {},
   "outputs": [
    {
     "data": {
      "text/plain": [
       "Text(0, 0.5, 'R_squared')"
      ]
     },
     "execution_count": 25,
     "metadata": {},
     "output_type": "execute_result"
    },
    {
     "data": {
      "image/png": "[encoded data removed]",
      "text/plain": [
       "<Figure size 432x288 with 1 Axes>"
      ]
     },
     "metadata": {},
     "output_type": "display_data"
    }
   ],
   "source": [
    "plt.errorbar(neg_alpha, neg_gnn_mean, yerr=neg_gnn_std,color='r',label='GNN',fmt='o')\n",
    "plt.errorbar(neg_alpha, neg_cgnn_mean, yerr=neg_cgnn_std,color='g',label='C-GNN',fmt='o')\n",
    "plt.legend()\n",
    "plt.xlabel('alpha_i')\n",
    "plt.ylabel('R_squared')"
   ]
  },
  {
   "cell_type": "code",
   "execution_count": null,
   "metadata": {},
   "outputs": [],
   "source": []
  }
 ],
 "metadata": {
  "kernelspec": {
   "display_name": "Python 3",
   "language": "python",
   "name": "python3"
  },
  "language_info": {
   "codemirror_mode": {
    "name": "ipython",
    "version": 3
   },
   "file_extension": ".py",
   "mimetype": "text/x-python",
   "name": "python",
   "nbconvert_exporter": "python",
   "pygments_lexer": "ipython3",
   "version": "3.7.7"
  }
 },
 "nbformat": 4,
 "nbformat_minor": 4
}
