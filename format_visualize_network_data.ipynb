{
 "cells": [
  {
   "cell_type": "code",
   "execution_count": 11,
   "metadata": {},
   "outputs": [],
   "source": [
    "## move to directory where data is\n",
    "using DelimitedFiles\n",
    "using DataFrames\n",
    "using CSV"
   ]
  },
  {
   "cell_type": "code",
   "execution_count": 30,
   "metadata": {},
   "outputs": [
    {
     "data": {
      "text/plain": [
       "19252×1 Array{Float64,2}:\n",
       " 6.0\n",
       " 7.0\n",
       " 6.0\n",
       " 6.0\n",
       " 6.0\n",
       " 6.0\n",
       " 6.0\n",
       " 6.0\n",
       " 6.0\n",
       " 6.0\n",
       " 6.0\n",
       " 6.0\n",
       " 6.0\n",
       " ⋮  \n",
       " 1.0\n",
       " 1.0\n",
       " 1.0\n",
       " 1.0\n",
       " 1.0\n",
       " 1.0\n",
       " 1.0\n",
       " 1.0\n",
       " 1.0\n",
       " 1.0\n",
       " 1.0\n",
       " 1.0"
      ]
     },
     "execution_count": 30,
     "metadata": {},
     "output_type": "execute_result"
    }
   ],
   "source": [
    "#ords=readlines(\"Cox2.node_attrs\")\n",
    "ords=readdlm(\"Cox2.node_labels\")\n",
    "\n",
    "[X,Y]=1"
   ]
  },
  {
   "cell_type": "code",
   "execution_count": 31,
   "metadata": {},
   "outputs": [
    {
     "data": {
      "text/plain": [
       "19252×1 Array{Float64,2}:\n",
       " 6.0\n",
       " 7.0\n",
       " 6.0\n",
       " 6.0\n",
       " 6.0\n",
       " 6.0\n",
       " 6.0\n",
       " 6.0\n",
       " 6.0\n",
       " 6.0\n",
       " 6.0\n",
       " 6.0\n",
       " 6.0\n",
       " ⋮  \n",
       " 1.0\n",
       " 1.0\n",
       " 1.0\n",
       " 1.0\n",
       " 1.0\n",
       " 1.0\n",
       " 1.0\n",
       " 1.0\n",
       " 1.0\n",
       " 1.0\n",
       " 1.0\n",
       " 1.0"
      ]
     },
     "execution_count": 31,
     "metadata": {},
     "output_type": "execute_result"
    }
   ],
   "source": [
    "ords"
   ]
  },
  {
   "cell_type": "code",
   "execution_count": 14,
   "metadata": {
    "scrolled": true
   },
   "outputs": [
    {
     "data": {
      "text/html": [
       "<table class=\"data-frame\"><thead><tr><th></th><th>Column1</th><th>Column2</th><th>Column3</th></tr><tr><th></th><th>Float64</th><th>Float64</th><th>Float64</th></tr></thead><tbody><p>19,252 rows × 3 columns</p><tr><th>1</th><td>3.35523</td><td>0.143395</td><td>1.08385</td></tr><tr><th>2</th><td>2.09003</td><td>0.200695</td><td>0.491354</td></tr><tr><th>3</th><td>1.18823</td><td>-0.454505</td><td>1.34265</td></tr><tr><th>4</th><td>1.90263</td><td>-0.921605</td><td>2.43435</td></tr><tr><th>5</th><td>3.24443</td><td>-0.536105</td><td>2.28135</td></tr><tr><th>6</th><td>-0.267772</td><td>-0.529905</td><td>1.16775</td></tr><tr><th>7</th><td>1.78253</td><td>0.785495</td><td>-0.777046</td></tr><tr><th>8</th><td>-0.939372</td><td>0.369895</td><td>0.327054</td></tr><tr><th>9</th><td>-2.32787</td><td>0.303795</td><td>0.179254</td></tr><tr><th>10</th><td>-3.05227</td><td>-0.656005</td><td>0.890254</td></tr><tr><th>11</th><td>-2.39897</td><td>-1.55671</td><td>1.73455</td></tr><tr><th>12</th><td>-1.00997</td><td>-1.48541</td><td>1.87705</td></tr><tr><th>13</th><td>2.01963</td><td>2.14879</td><td>-1.00465</td></tr><tr><th>14</th><td>1.71283</td><td>2.715</td><td>-2.24455</td></tr><tr><th>15</th><td>1.17373</td><td>1.921</td><td>-3.24945</td></tr><tr><th>16</th><td>0.932228</td><td>0.569095</td><td>-3.03945</td></tr><tr><th>17</th><td>1.23493</td><td>-0.002705</td><td>-1.80135</td></tr><tr><th>18</th><td>0.881228</td><td>2.46739</td><td>-4.43705</td></tr><tr><th>19</th><td>4.61563</td><td>0.647395</td><td>0.462054</td></tr><tr><th>20</th><td>-4.81707</td><td>-0.751205</td><td>0.691054</td></tr><tr><th>21</th><td>-5.30857</td><td>0.588195</td><td>0.382454</td></tr><tr><th>22</th><td>-5.36257</td><td>-1.43921</td><td>1.85705</td></tr><tr><th>23</th><td>-5.02407</td><td>-1.78171</td><td>-0.736946</td></tr><tr><th>24</th><td>1.48103</td><td>-1.46151</td><td>3.27515</td></tr><tr><th>25</th><td>4.06013</td><td>-0.749205</td><td>2.96365</td></tr><tr><th>26</th><td>-0.386872</td><td>1.13289</td><td>-0.219446</td></tr><tr><th>27</th><td>-2.82897</td><td>1.00659</td><td>-0.482946</td></tr><tr><th>28</th><td>-2.95427</td><td>-2.3106</td><td>2.28825</td></tr><tr><th>29</th><td>-0.509472</td><td>-2.189</td><td>2.54105</td></tr><tr><th>30</th><td>2.39813</td><td>2.7992</td><td>-0.220146</td></tr><tr><th>&vellip;</th><td>&vellip;</td><td>&vellip;</td><td>&vellip;</td></tr></tbody></table>"
      ],
      "text/latex": [
       "\\begin{tabular}{r|ccc}\n",
       "\t& Column1 & Column2 & Column3\\\\\n",
       "\t\\hline\n",
       "\t& Float64 & Float64 & Float64\\\\\n",
       "\t\\hline\n",
       "\t1 & 3.35523 & 0.143395 & 1.08385 \\\\\n",
       "\t2 & 2.09003 & 0.200695 & 0.491354 \\\\\n",
       "\t3 & 1.18823 & -0.454505 & 1.34265 \\\\\n",
       "\t4 & 1.90263 & -0.921605 & 2.43435 \\\\\n",
       "\t5 & 3.24443 & -0.536105 & 2.28135 \\\\\n",
       "\t6 & -0.267772 & -0.529905 & 1.16775 \\\\\n",
       "\t7 & 1.78253 & 0.785495 & -0.777046 \\\\\n",
       "\t8 & -0.939372 & 0.369895 & 0.327054 \\\\\n",
       "\t9 & -2.32787 & 0.303795 & 0.179254 \\\\\n",
       "\t10 & -3.05227 & -0.656005 & 0.890254 \\\\\n",
       "\t11 & -2.39897 & -1.55671 & 1.73455 \\\\\n",
       "\t12 & -1.00997 & -1.48541 & 1.87705 \\\\\n",
       "\t13 & 2.01963 & 2.14879 & -1.00465 \\\\\n",
       "\t14 & 1.71283 & 2.715 & -2.24455 \\\\\n",
       "\t15 & 1.17373 & 1.921 & -3.24945 \\\\\n",
       "\t16 & 0.932228 & 0.569095 & -3.03945 \\\\\n",
       "\t17 & 1.23493 & -0.002705 & -1.80135 \\\\\n",
       "\t18 & 0.881228 & 2.46739 & -4.43705 \\\\\n",
       "\t19 & 4.61563 & 0.647395 & 0.462054 \\\\\n",
       "\t20 & -4.81707 & -0.751205 & 0.691054 \\\\\n",
       "\t21 & -5.30857 & 0.588195 & 0.382454 \\\\\n",
       "\t22 & -5.36257 & -1.43921 & 1.85705 \\\\\n",
       "\t23 & -5.02407 & -1.78171 & -0.736946 \\\\\n",
       "\t24 & 1.48103 & -1.46151 & 3.27515 \\\\\n",
       "\t25 & 4.06013 & -0.749205 & 2.96365 \\\\\n",
       "\t26 & -0.386872 & 1.13289 & -0.219446 \\\\\n",
       "\t27 & -2.82897 & 1.00659 & -0.482946 \\\\\n",
       "\t28 & -2.95427 & -2.3106 & 2.28825 \\\\\n",
       "\t29 & -0.509472 & -2.189 & 2.54105 \\\\\n",
       "\t30 & 2.39813 & 2.7992 & -0.220146 \\\\\n",
       "\t$\\dots$ & $\\dots$ & $\\dots$ & $\\dots$ \\\\\n",
       "\\end{tabular}\n"
      ],
      "text/plain": [
       "\u001b[1m19252×3 DataFrame\u001b[0m\n",
       "\u001b[1m   Row \u001b[0m│\u001b[1m Column1   \u001b[0m\u001b[1m Column2   \u001b[0m\u001b[1m Column3   \u001b[0m\n",
       "\u001b[1m       \u001b[0m│\u001b[90m Float64   \u001b[0m\u001b[90m Float64   \u001b[0m\u001b[90m Float64   \u001b[0m\n",
       "───────┼─────────────────────────────────\n",
       "     1 │  3.35523    0.143395   1.08385\n",
       "     2 │  2.09003    0.200695   0.491354\n",
       "     3 │  1.18823   -0.454505   1.34265\n",
       "     4 │  1.90263   -0.921605   2.43435\n",
       "     5 │  3.24443   -0.536105   2.28135\n",
       "     6 │ -0.267772  -0.529905   1.16775\n",
       "     7 │  1.78253    0.785495  -0.777046\n",
       "     8 │ -0.939372   0.369895   0.327054\n",
       "     9 │ -2.32787    0.303795   0.179254\n",
       "    10 │ -3.05227   -0.656005   0.890254\n",
       "    11 │ -2.39897   -1.55671    1.73455\n",
       "   ⋮   │     ⋮          ⋮          ⋮\n",
       " 19243 │ -0.157044  -2.06355    2.57645\n",
       " 19244 │  2.83736    2.85355   -0.263553\n",
       " 19245 │  2.22476    3.87155   -2.43575\n",
       " 19246 │  0.760256   0.088453  -3.82575\n",
       " 19247 │  1.36576   -0.960247  -1.67415\n",
       " 19248 │  3.69456   -1.33785    3.72495\n",
       " 19249 │  5.29476   -0.200047   2.17755\n",
       " 19250 │ -5.65034   -1.87235   -1.00255\n",
       " 19251 │ -4.15814   -2.73125   -0.522653\n",
       " 19252 │ -4.07294   -1.32855   -1.64385\n",
       "\u001b[36m                       19231 rows omitted\u001b[0m"
      ]
     },
     "execution_count": 14,
     "metadata": {},
     "output_type": "execute_result"
    }
   ],
   "source": [
    "df = CSV.read(\"Cox2.node_attrs\", DataFrame,header=false)"
   ]
  },
  {
   "cell_type": "code",
   "execution_count": 25,
   "metadata": {},
   "outputs": [],
   "source": [
    "all_attrs = zeros(19252,3)\n",
    "\n",
    "for i in 1:size(df,1)\n",
    "\n",
    "    all_attrs[i,1] = df[i,\"Column1\"]\n",
    "    all_attrs[i,2] = df[i,\"Column2\"]\n",
    "    all_attrs[i,3] = df[i,\"Column3\"]\n",
    "\n",
    "end"
   ]
  },
  {
   "cell_type": "code",
   "execution_count": 26,
   "metadata": {},
   "outputs": [
    {
     "data": {
      "text/plain": [
       "19252×3 Array{Float64,2}:\n",
       "  3.35523    0.143395   1.08385 \n",
       "  2.09003    0.200695   0.491354\n",
       "  1.18823   -0.454505   1.34265 \n",
       "  1.90263   -0.921605   2.43435 \n",
       "  3.24443   -0.536105   2.28135 \n",
       " -0.267772  -0.529905   1.16775 \n",
       "  1.78253    0.785495  -0.777046\n",
       " -0.939372   0.369895   0.327054\n",
       " -2.32787    0.303795   0.179254\n",
       " -3.05227   -0.656005   0.890254\n",
       " -2.39897   -1.55671    1.73455 \n",
       " -1.00997   -1.48541    1.87705 \n",
       "  2.01963    2.14879   -1.00465 \n",
       "  ⋮                             \n",
       " -2.41034    1.09345   -0.531053\n",
       " -2.59154   -2.19865    2.26235 \n",
       " -0.157044  -2.06355    2.57645 \n",
       "  2.83736    2.85355   -0.263553\n",
       "  2.22476    3.87155   -2.43575 \n",
       "  0.760256   0.088453  -3.82575 \n",
       "  1.36576   -0.960247  -1.67415 \n",
       "  3.69456   -1.33785    3.72495 \n",
       "  5.29476   -0.200047   2.17755 \n",
       " -5.65034   -1.87235   -1.00255 \n",
       " -4.15814   -2.73125   -0.522653\n",
       " -4.07294   -1.32855   -1.64385 "
      ]
     },
     "execution_count": 26,
     "metadata": {},
     "output_type": "execute_result"
    }
   ],
   "source": [
    "all_attrs"
   ]
  },
  {
   "cell_type": "code",
   "execution_count": 3,
   "metadata": {},
   "outputs": [
    {
     "ename": "ArgumentError",
     "evalue": "\u001b[91mArgumentError: cannot parse \"  3.355228, 0.143395, 1.083854\" as Float64\u001b[39m",
     "output_type": "error",
     "traceback": [
      "\u001b[91mArgumentError: cannot parse \"  3.355228, 0.143395, 1.083854\" as Float64\u001b[39m",
      "",
      "Stacktrace:",
      " [1] _parse_failure(::Type, ::String, ::Int64, ::Int64) at .\\parse.jl:362 (repeats 2 times)",
      " [2] tryparse_internal at .\\parse.jl:358 [inlined]",
      " [3] parse at .\\parse.jl:368 [inlined]",
      " [4] _broadcast_getindex_evalf at .\\broadcast.jl:582 [inlined]",
      " [5] _broadcast_getindex at .\\broadcast.jl:565 [inlined]",
      " [6] getindex at .\\broadcast.jl:515 [inlined]",
      " [7] macro expansion at .\\broadcast.jl:846 [inlined]",
      " [8] macro expansion at .\\simdloop.jl:73 [inlined]",
      " [9] copyto! at .\\broadcast.jl:845 [inlined]",
      " [10] copyto! at .\\broadcast.jl:800 [inlined]",
      " [11] copy at .\\broadcast.jl:776 [inlined]",
      " [12] materialize(::Base.Broadcast.Broadcasted{Base.Broadcast.DefaultArrayStyle{1},Nothing,typeof(parse),Tuple{Base.RefValue{Type{Float64}},Array{String,1}}}) at .\\broadcast.jl:756",
      " [13] top-level scope at In[3]:1"
     ]
    }
   ],
   "source": [
    "df_1 = CSV.read(\"Cox2.edges\", DataFrame,header=false)\n",
    "all_attrs = zeros(19252,3)\n",
    "\n",
    "for i in 1:size(df,1)\n",
    "\n",
    "    all_attrs[i,1] = df[i,\"Column1\"]\n",
    "    all_attrs[i,2] = df[i,\"Column2\"]\n",
    "    all_attrs[i,3] = df[i,\"Column3\"]\n",
    "\n",
    "end\n",
    "\n"
   ]
  },
  {
   "cell_type": "code",
   "execution_count": 35,
   "metadata": {},
   "outputs": [],
   "source": [
    "df_edges = CSV.read(\"Cox2.edges\", DataFrame,header=false);\n"
   ]
  },
  {
   "cell_type": "code",
   "execution_count": 36,
   "metadata": {},
   "outputs": [
    {
     "data": {
      "text/html": [
       "<table class=\"data-frame\"><thead><tr><th></th><th>Column1</th><th>Column2</th></tr><tr><th></th><th>Int64</th><th>Int64</th></tr></thead><tbody><p>40,578 rows × 2 columns</p><tr><th>1</th><td>2</td><td>1</td></tr><tr><th>2</th><td>5</td><td>1</td></tr><tr><th>3</th><td>19</td><td>1</td></tr><tr><th>4</th><td>1</td><td>2</td></tr><tr><th>5</th><td>3</td><td>2</td></tr><tr><th>6</th><td>7</td><td>2</td></tr><tr><th>7</th><td>2</td><td>3</td></tr><tr><th>8</th><td>4</td><td>3</td></tr><tr><th>9</th><td>6</td><td>3</td></tr><tr><th>10</th><td>3</td><td>4</td></tr><tr><th>11</th><td>5</td><td>4</td></tr><tr><th>12</th><td>24</td><td>4</td></tr><tr><th>13</th><td>1</td><td>5</td></tr><tr><th>14</th><td>4</td><td>5</td></tr><tr><th>15</th><td>25</td><td>5</td></tr><tr><th>16</th><td>3</td><td>6</td></tr><tr><th>17</th><td>8</td><td>6</td></tr><tr><th>18</th><td>12</td><td>6</td></tr><tr><th>19</th><td>2</td><td>7</td></tr><tr><th>20</th><td>13</td><td>7</td></tr><tr><th>21</th><td>17</td><td>7</td></tr><tr><th>22</th><td>6</td><td>8</td></tr><tr><th>23</th><td>9</td><td>8</td></tr><tr><th>24</th><td>26</td><td>8</td></tr><tr><th>25</th><td>8</td><td>9</td></tr><tr><th>26</th><td>10</td><td>9</td></tr><tr><th>27</th><td>27</td><td>9</td></tr><tr><th>28</th><td>9</td><td>10</td></tr><tr><th>29</th><td>11</td><td>10</td></tr><tr><th>30</th><td>20</td><td>10</td></tr><tr><th>&vellip;</th><td>&vellip;</td><td>&vellip;</td></tr></tbody></table>"
      ],
      "text/latex": [
       "\\begin{tabular}{r|cc}\n",
       "\t& Column1 & Column2\\\\\n",
       "\t\\hline\n",
       "\t& Int64 & Int64\\\\\n",
       "\t\\hline\n",
       "\t1 & 2 & 1 \\\\\n",
       "\t2 & 5 & 1 \\\\\n",
       "\t3 & 19 & 1 \\\\\n",
       "\t4 & 1 & 2 \\\\\n",
       "\t5 & 3 & 2 \\\\\n",
       "\t6 & 7 & 2 \\\\\n",
       "\t7 & 2 & 3 \\\\\n",
       "\t8 & 4 & 3 \\\\\n",
       "\t9 & 6 & 3 \\\\\n",
       "\t10 & 3 & 4 \\\\\n",
       "\t11 & 5 & 4 \\\\\n",
       "\t12 & 24 & 4 \\\\\n",
       "\t13 & 1 & 5 \\\\\n",
       "\t14 & 4 & 5 \\\\\n",
       "\t15 & 25 & 5 \\\\\n",
       "\t16 & 3 & 6 \\\\\n",
       "\t17 & 8 & 6 \\\\\n",
       "\t18 & 12 & 6 \\\\\n",
       "\t19 & 2 & 7 \\\\\n",
       "\t20 & 13 & 7 \\\\\n",
       "\t21 & 17 & 7 \\\\\n",
       "\t22 & 6 & 8 \\\\\n",
       "\t23 & 9 & 8 \\\\\n",
       "\t24 & 26 & 8 \\\\\n",
       "\t25 & 8 & 9 \\\\\n",
       "\t26 & 10 & 9 \\\\\n",
       "\t27 & 27 & 9 \\\\\n",
       "\t28 & 9 & 10 \\\\\n",
       "\t29 & 11 & 10 \\\\\n",
       "\t30 & 20 & 10 \\\\\n",
       "\t$\\dots$ & $\\dots$ & $\\dots$ \\\\\n",
       "\\end{tabular}\n"
      ],
      "text/plain": [
       "\u001b[1m40578×2 DataFrame\u001b[0m\n",
       "\u001b[1m   Row \u001b[0m│\u001b[1m Column1 \u001b[0m\u001b[1m Column2 \u001b[0m\n",
       "\u001b[1m       \u001b[0m│\u001b[90m Int64   \u001b[0m\u001b[90m Int64   \u001b[0m\n",
       "───────┼──────────────────\n",
       "     1 │       2        1\n",
       "     2 │       5        1\n",
       "     3 │      19        1\n",
       "     4 │       1        2\n",
       "     5 │       3        2\n",
       "     6 │       7        2\n",
       "     7 │       2        3\n",
       "     8 │       4        3\n",
       "     9 │       6        3\n",
       "    10 │       3        4\n",
       "    11 │       5        4\n",
       "   ⋮   │    ⋮        ⋮\n",
       " 40569 │   19225    19243\n",
       " 40570 │   19226    19244\n",
       " 40571 │   19227    19245\n",
       " 40572 │   19229    19246\n",
       " 40573 │   19230    19247\n",
       " 40574 │   19232    19248\n",
       " 40575 │   19233    19249\n",
       " 40576 │   19238    19250\n",
       " 40577 │   19238    19251\n",
       " 40578 │   19238    19252\n",
       "\u001b[36m        40557 rows omitted\u001b[0m"
      ]
     },
     "execution_count": 36,
     "metadata": {},
     "output_type": "execute_result"
    }
   ],
   "source": [
    "df_edges"
   ]
  },
  {
   "cell_type": "code",
   "execution_count": null,
   "metadata": {},
   "outputs": [],
   "source": []
  }
 ],
 "metadata": {
  "kernelspec": {
   "display_name": "Julia 1.0.5",
   "language": "julia",
   "name": "julia-1.0"
  },
  "language_info": {
   "file_extension": ".jl",
   "mimetype": "application/julia",
   "name": "julia",
   "version": "1.0.5"
  }
 },
 "nbformat": 4,
 "nbformat_minor": 4
}
